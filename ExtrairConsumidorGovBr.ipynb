{
  "cells": [
    {
      "cell_type": "markdown",
      "metadata": {},
      "source": [
        "##### Requirements"
      ]
    },
    {
      "cell_type": "code",
      "execution_count": null,
      "metadata": {},
      "outputs": [],
      "source": [
        "%pip install re\n",
        "%pip install bs4\n",
        "%pip install requests\n",
        "%pip install pandas"
      ]
    },
    {
      "cell_type": "markdown",
      "metadata": {
        "id": "HIUMJIJLyk3F"
      },
      "source": [
        "##### Definição das funções de busca"
      ]
    },
    {
      "cell_type": "markdown",
      "metadata": {
        "id": "UBt7eeYrq3wy"
      },
      "source": [
        "Casos onde ou a empresa não respondeu, ou o consumidor não avaliou, tem uma estrutura html diferente das outras, com menos nós. Por isso o \"sibling\" pode ser None, e precisamos que de uma função auxiliar `TratarSibling` que retorna string vazia. \n",
        "\n",
        "Quando o nó existe, ele vem com alguns caracteres que atrapalham a construção do DataFrame, por isso a função já faz uma limpeza preliminar."
      ]
    },
    {
      "cell_type": "code",
      "execution_count": 9,
      "metadata": {
        "id": "oGHR-QDxq3UM"
      },
      "outputs": [],
      "source": [
        "import re \n",
        "import bs4\n",
        "\n",
        "# função auxiliar para tratar casos onde ou a empresa não respondeu, ou o consumidor não avaliou\n",
        "def TratarSibling(sibling: bs4.element.Tag) -> str:\n",
        "  \"\"\"Trata Tags que podem ser vazias ou com sujeira no texto\n",
        "  Arguments: \n",
        "    sibling: uma Tag que pode ser vazia (None) \n",
        "  Returns:\n",
        "    string vazia se a Tag for vazia.\n",
        "    Caso contrário, o texto da Tag sem quebras de linha.\"\"\"\n",
        "  if sibling is not None: \n",
        "    return re.sub('[\\n\\t\\r\\xa0\\x0b]',' ',sibling.get_text()).strip()\n",
        "  return ''"
      ]
    },
    {
      "cell_type": "markdown",
      "metadata": {
        "id": "aUIXBuWqUc7P"
      },
      "source": [
        "A quantidade de dias para resposta da empresa pode ser um texto no formato `(1 dia(s) depois)` ou `(no mesmo dia)`, ou ainda `<não respondido pela empresa>`. \n",
        "\n",
        "A função auxiliar `GetDiasDepois` se faz necessária para que transformemos esse texto em um número de dias"
      ]
    },
    {
      "cell_type": "code",
      "execution_count": 10,
      "metadata": {
        "id": "2I6aGKh0WBrf"
      },
      "outputs": [],
      "source": [
        "def GetDiasDepois(text: str):\n",
        "  if text.endswith(\"mesmo dia)\"):\n",
        "    return 0\n",
        "  if text.endswith(\"depois)\"):\n",
        "    return int(re.sub('[\\n\\t\\(\\)]|( dia\\(s\\) depois)','',text))\n",
        "  return \"N/A\""
      ]
    },
    {
      "cell_type": "markdown",
      "metadata": {
        "id": "AOWmWckCnelb"
      },
      "source": [
        "Definição da função `RetornarBuscaReclamacoes`, que realiza o web scraping das reclamações no site Consumidor.gov.br. \n",
        "\n",
        "Pela própria natureza do site, a busca retornará apenas 10 resultados, no máximo.\n",
        "\n",
        "Além dos dados, a página retorna um índice para o próximo primeiro resultado. Se não houverem mais resultados, esse índice será -1.\n",
        "\n"
      ]
    },
    {
      "cell_type": "code",
      "execution_count": 11,
      "metadata": {
        "id": "cERPKT78ryEn"
      },
      "outputs": [],
      "source": [
        "import requests\n",
        "\n",
        "# função para consultar, conforme os parametros passados, o site consumidor.gov.br\n",
        "# e retornar as listas (tamanho máximo: 10):\n",
        "# empresas, resolucoes, datas, cidades, estados, reclamacoes, respostas, diasResposta, notas e avaliacoes;\n",
        "# e retornar o proximo indice que continua a busca\n",
        "def RetornarBuscaReclamacoes(indicePrimeiroResultado='0', \n",
        "                             palavrasChave='', \n",
        "                             segmentoMercado='', \n",
        "                             fornecedor='', \n",
        "                             regiao='', \n",
        "                             uf='', \n",
        "                             cidade='',\n",
        "                             area='', \n",
        "                             assunto='', \n",
        "                             problema='', \n",
        "                             dataInicio='', \n",
        "                             dataTermino='', \n",
        "                             avaliacao='', \n",
        "                             nota=''):\n",
        "  \"\"\"Consultar, conforme os parametros passados, o site consumidor.gov.br\n",
        "  e retornar as listas (tamanho máximo: 10):\n",
        "  empresas, resolucoes, datas, cidades, estados, reclamacoes, respostas, diasResposta, notas e avaliacoes;\n",
        "  e retornar o proximo indice que continua a busca\"\"\"\n",
        "\n",
        "  #definir parametros de busca\n",
        "  data = {\n",
        "    'indicePrimeiroResultado': indicePrimeiroResultado,\n",
        "    'palavrasChave': palavrasChave,\n",
        "    'segmentoMercado': segmentoMercado,\n",
        "    'fornecedor': fornecedor,\n",
        "    'regiao': regiao,\n",
        "    'uf': uf,\n",
        "    'cidade': cidade,\n",
        "    'area': area,\n",
        "    'assunto': assunto,\n",
        "    'problema': problema,\n",
        "    'dataInicio': dataInicio,\n",
        "    'dataTermino': dataTermino,\n",
        "    'avaliacao': avaliacao,\n",
        "    'nota': nota,\n",
        "  }\n",
        "\n",
        "  response = requests.post(\n",
        "      'https://consumidor.gov.br/pages/indicador/relatos/consultar',\n",
        "      data=data,\n",
        "  )\n",
        "\n",
        "  # converter no objeto para busca dos elementos \n",
        "  page = bs4.BeautifulSoup(response.text, 'html.parser')\n",
        "  \n",
        "  # busca dos nomes das empresas\n",
        "  aElems = page.select('a')\n",
        "  empresas = [elem.get_text() for elem in aElems]\n",
        "\n",
        "  # busca das informacoes Resolvido/Não Resolvido/Não avaliado pelo consumidor\n",
        "  h4Elems = page.find_all('h4')\n",
        "  resolucoes = [TratarSibling(elem) for elem in h4Elems]\n",
        "\n",
        "  # busca das datas das reclamacoes do consumidor\n",
        "  pElems = page.find_all(name=\"strong\", string=\"Relato\")\n",
        "  datas = [TratarSibling(elem.findNextSibling())[0:10] for elem in pElems]  \n",
        "\n",
        "  # busca das cidades e estado de origem do consumidor\n",
        "  cidades_estados = [TratarSibling(elem.findNextSibling())[12:] for elem in pElems]\n",
        "  cidades = [cidade_estado.split(' - ')[0] for cidade_estado in cidades_estados]\n",
        "  estados = [cidade_estado.split(' - ')[1] for cidade_estado in cidades_estados]\n",
        "\n",
        "  # busca do texto das reclamacoes do consumidor\n",
        "  pElems = page.find_all('p', style=\"word-wrap: break-word;\")\n",
        "  reclamacoes = [TratarSibling(elem) for elem in pElems]\n",
        "  \n",
        "  # busca do texto das respostas das empresas\n",
        "  pElems = page.find_all(name=\"strong\", string=\"Resposta\")\n",
        "  respostas = [TratarSibling(elem.findNextSibling().findNextSibling()) for elem in pElems]\n",
        "  \n",
        "  # busca do numero de dias que as empresas levaram para responder\n",
        "  diasResposta = [GetDiasDepois(TratarSibling(elem.findNextSibling())) for elem in pElems]\n",
        "\n",
        "  # busca das notas dadas pelo consumidor\n",
        "  pElems = page.find_all(name=\"strong\", string=\"Avaliação\")\n",
        "  notas = [re.sub('[\\n\\t]|Nota|<.*?>','',TratarSibling(elem.findNextSibling())) for elem in pElems]\n",
        "\n",
        "  # busca dos textos da avaliação dada pelo consumidor\n",
        "  avaliacoes = [TratarSibling(elem.findNextSibling().findNextSibling()) for elem in pElems]\n",
        "\n",
        "  # busca do proximo indice que ira trazer resultados. retorna -1 se acabou\n",
        "  primeiroProximoIndice = int(re.search('-?\\d+',page.find('script').text).group())\n",
        "\n",
        "  return empresas, resolucoes, datas, cidades, estados, reclamacoes, respostas, diasResposta, notas, avaliacoes, primeiroProximoIndice"
      ]
    },
    {
      "cell_type": "markdown",
      "metadata": {
        "id": "RqxDtHQKsUy5"
      },
      "source": [
        "Como a função de busca retorna apenas 10 resultados, a função `RetornarBaseReclamacoes` ajuda a retornar todos os resultados da busca.\n",
        "\n",
        "O custo computacional de aquisição dos dados medido nos testes foi de **1 segundo a cada 10 linhas buscadas**, quando o único parâmetro passado é a palavra chave. **Para mais parâmetros, o tempo de busca pode ser maior**.\n",
        "\n",
        "Se desejar limitar o tempo de busca, basta passar o parâmetro `numero_maximo_resultados`.\n",
        "\n"
      ]
    },
    {
      "cell_type": "code",
      "execution_count": 12,
      "metadata": {
        "id": "sVf0IQRyIb3B"
      },
      "outputs": [],
      "source": [
        "import pandas as pd\n",
        "import warnings\n",
        "\n",
        "# função que retorna a base completa com todos os resultados da busca, conforme os parametros passados, ou uma base com numero_maximo_resultados\n",
        "def RetornarBaseReclamacoes(\n",
        "    numero_maximo_resultados=None, \n",
        "    palavrasChave=[''], \n",
        "    segmentoMercado='', \n",
        "    fornecedor='', \n",
        "    regiao='', \n",
        "    uf='', \n",
        "    cidade='',\n",
        "    area='', \n",
        "    assunto='', \n",
        "    problema='', \n",
        "    dataInicio='', \n",
        "    dataTermino='', \n",
        "    avaliacao='', \n",
        "    nota='') -> pd.DataFrame:\n",
        "  \"\"\"Retorna a base completa com todos os resultados da busca, conforme os parametros passados, ou uma base com numero_maximo_resultados\"\"\"\n",
        "\n",
        "  # aviso de parametro provavelmente sendo mal utilizado\n",
        "  if numero_maximo_resultados == 0:\n",
        "    warnings.warn(\"warning: se numero_maximo_resultados for 0, a busca inteira será retornada (pode demorar alguns minutos)\")\n",
        "\n",
        "  # se o valor de numero_maximo_resultados não for passado, definir um valor padrão para retornar tudo\n",
        "  if numero_maximo_resultados is None:\n",
        "    numero_maximo_resultados = 0\n",
        "\n",
        "  # tratamento de parametro incorreto  \n",
        "  if not type(numero_maximo_resultados) is int:\n",
        "    raise TypeError(\"numero_maximo_resultados deve ser um int\")\n",
        "  \n",
        "  if not type(palavrasChave) is list or not type(palavrasChave[0]) is str:\n",
        "    raise TypeError(\"palavrasChave deve ser uma list de str\")\n",
        "  \n",
        "  if numero_maximo_resultados < 0 or numero_maximo_resultados % 10 != 0:\n",
        "    raise Exception(\"numero_maximo_resultados precisa ser um número inteiro positivo múltiplo de 10. Ex: 0, 10, 20, 1000...\")  \n",
        "  \n",
        "  # criação do DataFrame sem dados. Os dados buscados serão concatenados neste\n",
        "  df = pd.DataFrame(columns=['empresa', 'resolucao', 'data_reclamacao', 'cidade', 'estado','reclamacao', 'resposta', 'dias_depois_resposta', 'nota', 'avaliacao'])\n",
        "\n",
        "  # para melhor desempenho na busca, vamos buscar uma palvra chave por vez\n",
        "  for palavraChave in palavrasChave:\n",
        "\n",
        "    # busca incial sempre começa com indice 0\n",
        "    primeiroProximoIndice = 0\n",
        "\n",
        "    # laço para realizar a busca até o último resultado ou até numero_maximo_resultados ser atingido\n",
        "    while primeiroProximoIndice >= 0 and (numero_maximo_resultados == 0 or primeiroProximoIndice < numero_maximo_resultados):\n",
        "      # buscas em sequencia utilizando sempre o indice retornado para buscar mais resultados\n",
        "      print('buscando palavra chave \"{0}\" a partir do indice {1}...'.format(palavraChave, primeiroProximoIndice))\n",
        "      empresas, resolucoes, datas, cidades, estados, reclamacoes, respostas, diasResposta, notas, avaliacoes, primeiroProximoIndice = RetornarBuscaReclamacoes(\n",
        "          indicePrimeiroResultado=primeiroProximoIndice, \n",
        "          palavrasChave=palavraChave, \n",
        "          segmentoMercado=segmentoMercado, \n",
        "          fornecedor=fornecedor, \n",
        "          regiao=regiao, \n",
        "          uf=uf,\n",
        "          cidade=cidade,\n",
        "          area=area, \n",
        "          assunto=assunto, \n",
        "          problema=problema, \n",
        "          dataInicio=dataInicio, \n",
        "          dataTermino=dataTermino, \n",
        "          avaliacao=avaliacao, \n",
        "          nota=nota\n",
        "          )\n",
        "      df_aux = pd.DataFrame(list(zip(empresas, resolucoes, datas, cidades, estados, reclamacoes, respostas, diasResposta, notas, avaliacoes))\n",
        "      , columns=['empresa', 'resolucao', 'data_reclamacao', 'cidade', 'estado', 'reclamacao', 'resposta', 'dias_depois_resposta', 'nota', 'avaliacao'])\n",
        "      print('{0} resultados retornados'.format(len(df_aux)))\n",
        "      df = pd.concat([df, df_aux], ignore_index=True)\n",
        "      print('{0} resultados até o momento'.format(len(df)))\n",
        "\n",
        "  return df"
      ]
    },
    {
      "cell_type": "markdown",
      "metadata": {
        "id": "xEhosj4YnsO-"
      },
      "source": [
        "##### Definição dos parametros de busca"
      ]
    },
    {
      "cell_type": "code",
      "execution_count": 13,
      "metadata": {
        "id": "LtiFYHZuoGGC"
      },
      "outputs": [],
      "source": [
        "palavrasChave=['atendimento']\n",
        "numero_maximo_resultados = 10 # Se 0 ou None: retornar tudo.\n",
        "segmentoMercado=''\n",
        "fornecedor=''\n",
        "regiao=''\n",
        "uf=''\n",
        "cidade=''\n",
        "area=''\n",
        "assunto=''\n",
        "problema=''\n",
        "dataInicio='' \n",
        "dataTermino=''\n",
        "avaliacao=''\n",
        "nota=''"
      ]
    },
    {
      "cell_type": "markdown",
      "metadata": {
        "id": "7xyeYnyGnwqX"
      },
      "source": [
        "##### Aquisição dos dados e montagem da base"
      ]
    },
    {
      "cell_type": "code",
      "execution_count": 14,
      "metadata": {
        "id": "9VFn4xmX6aSH"
      },
      "outputs": [
        {
          "name": "stdout",
          "output_type": "stream",
          "text": [
            "buscando palavra chave \"atendimento\" a partir do indice 0...\n",
            "10 resultados retornados\n",
            "10 resultados até o momento\n"
          ]
        }
      ],
      "source": [
        "df = RetornarBaseReclamacoes(numero_maximo_resultados,\n",
        "                             palavrasChave,\n",
        "                             segmentoMercado,\n",
        "                             fornecedor,\n",
        "                             regiao,\n",
        "                             uf,\n",
        "                             cidade,\n",
        "                             area,\n",
        "                             assunto,\n",
        "                             problema,\n",
        "                             dataInicio,\n",
        "                             dataTermino,\n",
        "                             avaliacao,\n",
        "                             nota)"
      ]
    },
    {
      "cell_type": "markdown",
      "metadata": {
        "id": "C-QKsRUvxTDC"
      },
      "source": [
        "Exibir resultado"
      ]
    },
    {
      "cell_type": "code",
      "execution_count": 15,
      "metadata": {
        "id": "zHv8qM9qxSAf"
      },
      "outputs": [
        {
          "data": {
            "text/html": [
              "<div>\n",
              "<style scoped>\n",
              "    .dataframe tbody tr th:only-of-type {\n",
              "        vertical-align: middle;\n",
              "    }\n",
              "\n",
              "    .dataframe tbody tr th {\n",
              "        vertical-align: top;\n",
              "    }\n",
              "\n",
              "    .dataframe thead th {\n",
              "        text-align: right;\n",
              "    }\n",
              "</style>\n",
              "<table border=\"1\" class=\"dataframe\">\n",
              "  <thead>\n",
              "    <tr style=\"text-align: right;\">\n",
              "      <th></th>\n",
              "      <th>empresa</th>\n",
              "      <th>resolucao</th>\n",
              "      <th>data_reclamacao</th>\n",
              "      <th>cidade</th>\n",
              "      <th>estado</th>\n",
              "      <th>reclamacao</th>\n",
              "      <th>resposta</th>\n",
              "      <th>dias_depois_resposta</th>\n",
              "      <th>nota</th>\n",
              "      <th>avaliacao</th>\n",
              "    </tr>\n",
              "  </thead>\n",
              "  <tbody>\n",
              "    <tr>\n",
              "      <th>0</th>\n",
              "      <td>Airbnb</td>\n",
              "      <td>Não Resolvido</td>\n",
              "      <td>09/12/2022,</td>\n",
              "      <td>Taubaté</td>\n",
              "      <td>SP</td>\n",
              "      <td>Entre os dia 03 e 05 de dezembro de 2022 eu me...</td>\n",
              "      <td>Caro consumidor,    Obrigado por entrar em con...</td>\n",
              "      <td>0</td>\n",
              "      <td>1</td>\n",
              "      <td>O Airbnb se negou a efetuar o reembolso pelos ...</td>\n",
              "    </tr>\n",
              "    <tr>\n",
              "      <th>1</th>\n",
              "      <td>Latam Airlines (Tam)</td>\n",
              "      <td>Resolvido</td>\n",
              "      <td>09/12/2022,</td>\n",
              "      <td>Brasília</td>\n",
              "      <td>DF</td>\n",
              "      <td>Realizei a compra da passagem BSB-JDO-BSB em 6...</td>\n",
              "      <td>Prezado(a) Cliente,    Informamos que providen...</td>\n",
              "      <td>0</td>\n",
              "      <td>4</td>\n",
              "      <td>Não ofereceram reembolso (como determina o art...</td>\n",
              "    </tr>\n",
              "    <tr>\n",
              "      <th>2</th>\n",
              "      <td>Drogaria São Paulo</td>\n",
              "      <td>Resolvido</td>\n",
              "      <td>08/12/2022,</td>\n",
              "      <td>São Paulo</td>\n",
              "      <td>SP</td>\n",
              "      <td>Fiz uma compra no dia 04 de Dezembro pedido nº...</td>\n",
              "      <td>Olá, João, boa tarde!    Inicialmente peço des...</td>\n",
              "      <td>0</td>\n",
              "      <td>2</td>\n",
              "      <td>sim...os produtos foram entregues hoje um pouc...</td>\n",
              "    </tr>\n",
              "    <tr>\n",
              "      <th>3</th>\n",
              "      <td>Cartão Cencosud GBarbosa</td>\n",
              "      <td>Resolvido</td>\n",
              "      <td>08/12/2022,</td>\n",
              "      <td>Lauro de Freitas</td>\n",
              "      <td>BA</td>\n",
              "      <td>Tentei contato na Central de atendimento, mas ...</td>\n",
              "      <td>Olá Diana, tudo bem?   Acabamos de responder a...</td>\n",
              "      <td>0</td>\n",
              "      <td>5</td>\n",
              "      <td>A empresa apresentou proposta e aceitei</td>\n",
              "    </tr>\n",
              "    <tr>\n",
              "      <th>4</th>\n",
              "      <td>99App</td>\n",
              "      <td>Não Resolvido</td>\n",
              "      <td>08/12/2022,</td>\n",
              "      <td>Curitiba</td>\n",
              "      <td>PR</td>\n",
              "      <td>Inclui o mesmo endereço como origem e destino ...</td>\n",
              "      <td>Prezado solicitante,    Em resposta à manifest...</td>\n",
              "      <td>1</td>\n",
              "      <td>1</td>\n",
              "      <td>Se restringiram a justificar a variação de pre...</td>\n",
              "    </tr>\n",
              "    <tr>\n",
              "      <th>5</th>\n",
              "      <td>Pernambucanas Cartões</td>\n",
              "      <td>Resolvido</td>\n",
              "      <td>08/12/2022,</td>\n",
              "      <td>Belo Horizonte</td>\n",
              "      <td>MG</td>\n",
              "      <td>Liguei para a central de atendimento da Pernam...</td>\n",
              "      <td>Olá Samantha,     Recebemos a sua manifestação...</td>\n",
              "      <td>1</td>\n",
              "      <td>5</td>\n",
              "      <td>&lt;não há comentários do consumidor&gt;</td>\n",
              "    </tr>\n",
              "    <tr>\n",
              "      <th>6</th>\n",
              "      <td>Rappi</td>\n",
              "      <td>Resolvido</td>\n",
              "      <td>08/12/2022,</td>\n",
              "      <td>Brasília</td>\n",
              "      <td>DF</td>\n",
              "      <td>Tive uma série de problemas com a empresa, que...</td>\n",
              "      <td>Prezada,     Lamento que a senhora tenha passa...</td>\n",
              "      <td>0</td>\n",
              "      <td>5</td>\n",
              "      <td>Agora resolveram.</td>\n",
              "    </tr>\n",
              "    <tr>\n",
              "      <th>7</th>\n",
              "      <td>Samsung</td>\n",
              "      <td>Não Resolvido</td>\n",
              "      <td>08/12/2022,</td>\n",
              "      <td>Santo André</td>\n",
              "      <td>SP</td>\n",
              "      <td>Olá.    Há mais ou menos dois meses o celular ...</td>\n",
              "      <td>Caro Cliente,    Informamos que os esclarecime...</td>\n",
              "      <td>1</td>\n",
              "      <td>1</td>\n",
              "      <td>Reabrir este ticket imediatamente pois o retor...</td>\n",
              "    </tr>\n",
              "    <tr>\n",
              "      <th>8</th>\n",
              "      <td>Latam Airlines (Tam)</td>\n",
              "      <td>Resolvido</td>\n",
              "      <td>08/12/2022,</td>\n",
              "      <td>Paracatu</td>\n",
              "      <td>MG</td>\n",
              "      <td>No dia 06/12/2022 entrei em contato com a Lata...</td>\n",
              "      <td>Prezado(a) Cliente,    Informamos que providen...</td>\n",
              "      <td>0</td>\n",
              "      <td>2</td>\n",
              "      <td>O atendimento do Carlos Lopes foi nota 10.</td>\n",
              "    </tr>\n",
              "    <tr>\n",
              "      <th>9</th>\n",
              "      <td>MaxMilhas</td>\n",
              "      <td>Resolvido</td>\n",
              "      <td>08/12/2022,</td>\n",
              "      <td>Mossoró</td>\n",
              "      <td>RN</td>\n",
              "      <td>Após colocar a venda milhas smiles na max milh...</td>\n",
              "      <td>Olá Clélia,   A compra foi realizada pelo pass...</td>\n",
              "      <td>1</td>\n",
              "      <td>5</td>\n",
              "      <td>Apesar de não conseguir atendimento por ligaçã...</td>\n",
              "    </tr>\n",
              "  </tbody>\n",
              "</table>\n",
              "</div>"
            ],
            "text/plain": [
              "                    empresa      resolucao data_reclamacao            cidade  \\\n",
              "0                    Airbnb  Não Resolvido     09/12/2022,           Taubaté   \n",
              "1      Latam Airlines (Tam)      Resolvido     09/12/2022,          Brasília   \n",
              "2        Drogaria São Paulo      Resolvido     08/12/2022,         São Paulo   \n",
              "3  Cartão Cencosud GBarbosa      Resolvido     08/12/2022,  Lauro de Freitas   \n",
              "4                     99App  Não Resolvido     08/12/2022,          Curitiba   \n",
              "5     Pernambucanas Cartões      Resolvido     08/12/2022,    Belo Horizonte   \n",
              "6                     Rappi      Resolvido     08/12/2022,          Brasília   \n",
              "7                   Samsung  Não Resolvido     08/12/2022,       Santo André   \n",
              "8      Latam Airlines (Tam)      Resolvido     08/12/2022,          Paracatu   \n",
              "9                 MaxMilhas      Resolvido     08/12/2022,           Mossoró   \n",
              "\n",
              "  estado                                         reclamacao  \\\n",
              "0     SP  Entre os dia 03 e 05 de dezembro de 2022 eu me...   \n",
              "1     DF  Realizei a compra da passagem BSB-JDO-BSB em 6...   \n",
              "2     SP  Fiz uma compra no dia 04 de Dezembro pedido nº...   \n",
              "3     BA  Tentei contato na Central de atendimento, mas ...   \n",
              "4     PR  Inclui o mesmo endereço como origem e destino ...   \n",
              "5     MG  Liguei para a central de atendimento da Pernam...   \n",
              "6     DF  Tive uma série de problemas com a empresa, que...   \n",
              "7     SP  Olá.    Há mais ou menos dois meses o celular ...   \n",
              "8     MG  No dia 06/12/2022 entrei em contato com a Lata...   \n",
              "9     RN  Após colocar a venda milhas smiles na max milh...   \n",
              "\n",
              "                                            resposta dias_depois_resposta  \\\n",
              "0  Caro consumidor,    Obrigado por entrar em con...                    0   \n",
              "1  Prezado(a) Cliente,    Informamos que providen...                    0   \n",
              "2  Olá, João, boa tarde!    Inicialmente peço des...                    0   \n",
              "3  Olá Diana, tudo bem?   Acabamos de responder a...                    0   \n",
              "4  Prezado solicitante,    Em resposta à manifest...                    1   \n",
              "5  Olá Samantha,     Recebemos a sua manifestação...                    1   \n",
              "6  Prezada,     Lamento que a senhora tenha passa...                    0   \n",
              "7  Caro Cliente,    Informamos que os esclarecime...                    1   \n",
              "8  Prezado(a) Cliente,    Informamos que providen...                    0   \n",
              "9  Olá Clélia,   A compra foi realizada pelo pass...                    1   \n",
              "\n",
              "  nota                                          avaliacao  \n",
              "0    1  O Airbnb se negou a efetuar o reembolso pelos ...  \n",
              "1    4  Não ofereceram reembolso (como determina o art...  \n",
              "2    2  sim...os produtos foram entregues hoje um pouc...  \n",
              "3    5            A empresa apresentou proposta e aceitei  \n",
              "4    1  Se restringiram a justificar a variação de pre...  \n",
              "5    5                 <não há comentários do consumidor>  \n",
              "6    5                                  Agora resolveram.  \n",
              "7    1  Reabrir este ticket imediatamente pois o retor...  \n",
              "8    2         O atendimento do Carlos Lopes foi nota 10.  \n",
              "9    5  Apesar de não conseguir atendimento por ligaçã...  "
            ]
          },
          "metadata": {},
          "output_type": "display_data"
        }
      ],
      "source": [
        "display(df)"
      ]
    },
    {
      "cell_type": "markdown",
      "metadata": {
        "id": "yurGYxBKxXWF"
      },
      "source": [
        "Salvar resultado em arquivos"
      ]
    },
    {
      "cell_type": "code",
      "execution_count": 17,
      "metadata": {
        "id": "V2PzdEVPpd14"
      },
      "outputs": [],
      "source": [
        "df.to_csv(f\"ReclamacoesConsumidor-{len(df)}-{'_'.join(palavrasChave)}.csv\")\n",
        "df.to_excel(f\"ReclamacoesConsumidor-{len(df)}-{'_'.join(palavrasChave)}.xlsx\")"
      ]
    }
  ],
  "metadata": {
    "colab": {
      "history_visible": true,
      "provenance": []
    },
    "kernelspec": {
      "display_name": "Python 3.9.7 64-bit",
      "language": "python",
      "name": "python3"
    },
    "language_info": {
      "codemirror_mode": {
        "name": "ipython",
        "version": 3
      },
      "file_extension": ".py",
      "mimetype": "text/x-python",
      "name": "python",
      "nbconvert_exporter": "python",
      "pygments_lexer": "ipython3",
      "version": "3.9.7"
    },
    "vscode": {
      "interpreter": {
        "hash": "6df03d6b8f8d8dd2b01829d81540d00847de304f198da520aeaace5938d6c080"
      }
    }
  },
  "nbformat": 4,
  "nbformat_minor": 0
}
