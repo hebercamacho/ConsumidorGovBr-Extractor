{
  "nbformat": 4,
  "nbformat_minor": 0,
  "metadata": {
    "colab": {
      "provenance": [],
      "history_visible": true
    },
    "kernelspec": {
      "name": "python3",
      "display_name": "Python 3"
    },
    "language_info": {
      "name": "python"
    }
  },
  "cells": [
    {
      "cell_type": "markdown",
      "source": [
        "##### Definição das funções de busca"
      ],
      "metadata": {
        "id": "HIUMJIJLyk3F"
      }
    },
    {
      "cell_type": "markdown",
      "source": [
        "Casos onde ou a empresa não respondeu, ou o consumidor não avaliou, tem uma estrutura html diferente das outras, com menos nós. Por isso o \"sibling\" pode ser None, e precisamos que de uma função auxiliar `TratarSibling` que retorna string vazia. \n",
        "\n",
        "Quando o nó existe, ele vem com alguns caracteres que atrapalham a construção do DataFrame, por isso a função já faz uma limpeza preliminar."
      ],
      "metadata": {
        "id": "UBt7eeYrq3wy"
      }
    },
    {
      "cell_type": "code",
      "source": [
        "import re \n",
        "import bs4\n",
        "\n",
        "# função auxiliar para tratar casos onde ou a empresa não respondeu, ou o consumidor não avaliou\n",
        "def TratarSibling(sibling: bs4.element.Tag) -> str:\n",
        "  \"\"\"Trata Tags que podem ser vazias ou com sujeira no texto\n",
        "  Arguments: \n",
        "    sibling: uma Tag que pode ser vazia (None) \n",
        "  Returns:\n",
        "    string vazia se a Tag for vazia.\n",
        "    Caso contrário, o texto da Tag sem quebras de linha.\"\"\"\n",
        "  if sibling is not None: \n",
        "    return re.sub('[\\n\\t\\r\\xa0\\x0b]',' ',sibling.get_text())\n",
        "  return ''"
      ],
      "metadata": {
        "id": "oGHR-QDxq3UM"
      },
      "execution_count": 30,
      "outputs": []
    },
    {
      "cell_type": "markdown",
      "source": [
        "A quantidade de dias para resposta da empresa pode ser um texto no formato `(1 dia(s) depois)` ou `(no mesmo dia)`, ou ainda `<não respondido pela empresa>`. \n",
        "\n",
        "A função auxiliar `GetDiasDepois` se faz necessária para que transformemos esse texto em um número de dias"
      ],
      "metadata": {
        "id": "aUIXBuWqUc7P"
      }
    },
    {
      "cell_type": "code",
      "source": [
        "def GetDiasDepois(text: str):\n",
        "  if text.endswith(\"mesmo dia)\"):\n",
        "    return 0\n",
        "  if text.endswith(\"depois)\"):\n",
        "    return int(re.sub('[\\n\\t\\(\\)]|( dia\\(s\\) depois)','',text))\n",
        "  return \"N/A\""
      ],
      "metadata": {
        "id": "2I6aGKh0WBrf"
      },
      "execution_count": 31,
      "outputs": []
    },
    {
      "cell_type": "markdown",
      "source": [
        "Definição da função `RetornarBuscaReclamacoes`, que realiza o web scraping das reclamações no site Consumidor.gov.br. \n",
        "\n",
        "Pela própria natureza do site, a busca retornará apenas 10 resultados, no máximo.\n",
        "\n",
        "Além dos dados, a página retorna um índice para o próximo primeiro resultado. Se não houverem mais resultados, esse índice será -1.\n",
        "\n"
      ],
      "metadata": {
        "id": "AOWmWckCnelb"
      }
    },
    {
      "cell_type": "code",
      "source": [
        "import requests\n",
        "\n",
        "# função para consultar, conforme os parametros passados, o site consumidor.gov.br\n",
        "# e retornar as listas (tamanho máximo: 10):\n",
        "# empresas, resolucoes, datas, cidades, estados, reclamacoes, respostas, diasResposta, notas e avaliacoes;\n",
        "# e retornar o proximo indice que continua a busca\n",
        "def RetornarBuscaReclamacoes(indicePrimeiroResultado='0', \n",
        "                             palavrasChave='', \n",
        "                             segmentoMercado='', \n",
        "                             fornecedor='', \n",
        "                             regiao='', \n",
        "                             uf='', \n",
        "                             cidade='',\n",
        "                             area='', \n",
        "                             assunto='', \n",
        "                             problema='', \n",
        "                             dataInicio='', \n",
        "                             dataTermino='', \n",
        "                             avaliacao='', \n",
        "                             nota=''):\n",
        "  \"\"\"Consultar, conforme os parametros passados, o site consumidor.gov.br\n",
        "  e retornar as listas (tamanho máximo: 10):\n",
        "  empresas, resolucoes, datas, cidades, estados, reclamacoes, respostas, diasResposta, notas e avaliacoes;\n",
        "  e retornar o proximo indice que continua a busca\"\"\"\n",
        "\n",
        "  #definir parametros de busca\n",
        "  data = {\n",
        "    'indicePrimeiroResultado': indicePrimeiroResultado,\n",
        "    'palavrasChave': palavrasChave,\n",
        "    'segmentoMercado': segmentoMercado,\n",
        "    'fornecedor': fornecedor,\n",
        "    'regiao': regiao,\n",
        "    'uf': uf,\n",
        "    'cidade': cidade,\n",
        "    'area': area,\n",
        "    'assunto': assunto,\n",
        "    'problema': problema,\n",
        "    'dataInicio': dataInicio,\n",
        "    'dataTermino': dataTermino,\n",
        "    'avaliacao': avaliacao,\n",
        "    'nota': nota,\n",
        "  }\n",
        "\n",
        "  response = requests.post(\n",
        "      'https://consumidor.gov.br/pages/indicador/relatos/consultar',\n",
        "      data=data,\n",
        "  )\n",
        "\n",
        "  # converter no objeto para busca dos elementos \n",
        "  page = bs4.BeautifulSoup(response.text, 'html.parser')\n",
        "  \n",
        "  # busca dos nomes das empresas\n",
        "  aElems = page.select('a')\n",
        "  empresas = [elem.get_text() for elem in aElems]\n",
        "\n",
        "  # busca das informacoes Resolvido/Não Resolvido/Não avaliado pelo consumidor\n",
        "  h4Elems = page.find_all('h4')\n",
        "  resolucoes = [TratarSibling(elem) for elem in h4Elems]\n",
        "\n",
        "  # busca das datas das reclamacoes do consumidor\n",
        "  pElems = page.find_all(name=\"strong\", string=\"Relato\")\n",
        "  datas = [TratarSibling(elem.findNextSibling())[0:11] for elem in pElems]  \n",
        "\n",
        "  # busca das cidades e estado de origem do consumidor\n",
        "  cidades_estados = [TratarSibling(elem.findNextSibling())[12:] for elem in pElems]\n",
        "  cidades = [cidade_estado.split(' - ')[0] for cidade_estado in cidades_estados]\n",
        "  estados = [cidade_estado.split(' - ')[1] for cidade_estado in cidades_estados]\n",
        "\n",
        "  # busca do texto das reclamacoes do consumidor\n",
        "  pElems = page.find_all('p', style=\"word-wrap: break-word;\")\n",
        "  reclamacoes = [TratarSibling(elem) for elem in pElems]\n",
        "  \n",
        "  # busca do texto das respostas das empresas\n",
        "  pElems = page.find_all(name=\"strong\", string=\"Resposta\")\n",
        "  respostas = [TratarSibling(elem.findNextSibling().findNextSibling()) for elem in pElems]\n",
        "  \n",
        "  # busca do numero de dias que as empresas levaram para responder\n",
        "  diasResposta = [GetDiasDepois(TratarSibling(elem.findNextSibling())) for elem in pElems]\n",
        "\n",
        "  # busca das notas dadas pelo consumidor\n",
        "  pElems = page.find_all(name=\"strong\", string=\"Avaliação\")\n",
        "  notas = [re.sub('[\\n\\t]|Nota|<.*?>','',TratarSibling(elem.findNextSibling())) for elem in pElems]\n",
        "\n",
        "  # busca dos textos da avaliação dada pelo consumidor\n",
        "  avaliacoes = [TratarSibling(elem.findNextSibling().findNextSibling()) for elem in pElems]\n",
        "\n",
        "  # busca do proximo indice que ira trazer resultados. retorna -1 se acabou\n",
        "  primeiroProximoIndice = int(re.search('-?\\d+',page.find('script').text).group())\n",
        "\n",
        "  return empresas, resolucoes, datas, cidades, estados, reclamacoes, respostas, diasResposta, notas, avaliacoes, primeiroProximoIndice"
      ],
      "metadata": {
        "id": "cERPKT78ryEn"
      },
      "execution_count": 32,
      "outputs": []
    },
    {
      "cell_type": "markdown",
      "source": [
        "Como a função de busca retorna apenas 10 resultados, a função `RetornarBaseReclamacoes` ajuda a retornar todos os resultados da busca.\n",
        "\n",
        "O custo computacional de aquisição dos dados medido nos testes foi de **1 segundo a cada 10 linhas buscadas**, quando o único parâmetro passado é a palavra chave. **Para mais parâmetros, o tempo de busca pode ser maior**.\n",
        "\n",
        "Se desejar limitar o tempo de busca, basta passar o parâmetro `numero_maximo_resultados`.\n",
        "\n"
      ],
      "metadata": {
        "id": "RqxDtHQKsUy5"
      }
    },
    {
      "cell_type": "code",
      "source": [
        "import pandas as pd\n",
        "import warnings\n",
        "\n",
        "# função que retorna a base completa com todos os resultados da busca, conforme os parametros passados, ou uma base com numero_maximo_resultados\n",
        "def RetornarBaseReclamacoes(\n",
        "    numero_maximo_resultados=None, \n",
        "    palavrasChave=[''], \n",
        "    segmentoMercado='', \n",
        "    fornecedor='', \n",
        "    regiao='', \n",
        "    uf='', \n",
        "    cidade='',\n",
        "    area='', \n",
        "    assunto='', \n",
        "    problema='', \n",
        "    dataInicio='', \n",
        "    dataTermino='', \n",
        "    avaliacao='', \n",
        "    nota='') -> pd.DataFrame:\n",
        "  \"\"\"Retorna a base completa com todos os resultados da busca, conforme os parametros passados, ou uma base com numero_maximo_resultados\"\"\"\n",
        "\n",
        "  # aviso de parametro provavelmente sendo mal utilizado\n",
        "  if numero_maximo_resultados == 0:\n",
        "    warnings.warn(\"warning: se numero_maximo_resultados for 0, a busca inteira será retornada (pode demorar alguns minutos)\")\n",
        "\n",
        "  # se o valor de numero_maximo_resultados não for passado, definir um valor padrão para retornar tudo\n",
        "  if numero_maximo_resultados is None:\n",
        "    numero_maximo_resultados = 0\n",
        "\n",
        "  # tratamento de parametro incorreto  \n",
        "  if not type(numero_maximo_resultados) is int:\n",
        "    raise TypeError(\"numero_maximo_resultados deve ser um int\")\n",
        "  \n",
        "  if not type(palavrasChave) is list or not type(palavrasChave[0]) is str:\n",
        "    raise TypeError(\"palavrasChave deve ser uma list de str\")\n",
        "  \n",
        "  if numero_maximo_resultados < 0 or numero_maximo_resultados % 10 != 0:\n",
        "    raise Exception(\"numero_maximo_resultados precisa ser um número inteiro positivo múltiplo de 10. Ex: 0, 10, 20, 1000...\")  \n",
        "  \n",
        "  # criação do DataFrame sem dados. Os dados buscados serão concatenados neste\n",
        "  df = pd.DataFrame(columns=['empresa', 'resolucao', 'data_reclamacao', 'cidade', 'estado','reclamacao', 'resposta', 'dias_depois_resposta', 'nota', 'avaliacao'])\n",
        "\n",
        "  # para melhor desempenho na busca, vamos buscar uma palvra chave por vez\n",
        "  for palavraChave in palavrasChave:\n",
        "\n",
        "    # busca incial sempre começa com indice 0\n",
        "    primeiroProximoIndice = 0\n",
        "\n",
        "    # laço para realizar a busca até o último resultado ou até numero_maximo_resultados ser atingido\n",
        "    while primeiroProximoIndice >= 0 and (numero_maximo_resultados == 0 or primeiroProximoIndice < numero_maximo_resultados):\n",
        "      # buscas em sequencia utilizando sempre o indice retornado para buscar mais resultados\n",
        "      print('buscando palavra chave \"{0}\" a partir do indice {1}...'.format(palavraChave, primeiroProximoIndice))\n",
        "      empresas, resolucoes, datas, cidades, estados, reclamacoes, respostas, diasResposta, notas, avaliacoes, primeiroProximoIndice = RetornarBuscaReclamacoes(\n",
        "          indicePrimeiroResultado=primeiroProximoIndice, \n",
        "          palavrasChave=palavraChave, \n",
        "          segmentoMercado=segmentoMercado, \n",
        "          fornecedor=fornecedor, \n",
        "          regiao=regiao, \n",
        "          uf=uf,\n",
        "          cidade=cidade,\n",
        "          area=area, \n",
        "          assunto=assunto, \n",
        "          problema=problema, \n",
        "          dataInicio=dataInicio, \n",
        "          dataTermino=dataTermino, \n",
        "          avaliacao=avaliacao, \n",
        "          nota=nota\n",
        "          )\n",
        "      df_aux = pd.DataFrame(list(zip(empresas, resolucoes, datas, cidades, estados, reclamacoes, respostas, diasResposta, notas, avaliacoes))\n",
        "      , columns=['empresa', 'resolucao', 'data_reclamacao', 'cidade', 'estado', 'reclamacao', 'resposta', 'dias_depois_resposta', 'nota', 'avaliacao'])\n",
        "      print('{0} resultados retornados'.format(len(df_aux)))\n",
        "      df = pd.concat([df, df_aux], ignore_index=True)\n",
        "      print('{0} resultados até o momento'.format(len(df)))\n",
        "\n",
        "  return df"
      ],
      "metadata": {
        "id": "sVf0IQRyIb3B"
      },
      "execution_count": 33,
      "outputs": []
    },
    {
      "cell_type": "markdown",
      "source": [
        "##### Definição dos parametros de busca"
      ],
      "metadata": {
        "id": "xEhosj4YnsO-"
      }
    },
    {
      "cell_type": "code",
      "source": [
        "palavrasChave=['atendimento']\n",
        "numero_maximo_resultados = None # Se 0 ou None: retornar tudo.\n",
        "segmentoMercado=''\n",
        "fornecedor=''\n",
        "regiao=''\n",
        "uf=''\n",
        "cidade=''\n",
        "area=''\n",
        "assunto=''\n",
        "problema=''\n",
        "dataInicio='' \n",
        "dataTermino=''\n",
        "avaliacao=''\n",
        "nota=''"
      ],
      "metadata": {
        "id": "LtiFYHZuoGGC"
      },
      "execution_count": 34,
      "outputs": []
    },
    {
      "cell_type": "markdown",
      "source": [
        "##### Aquisição dos dados e montagem da base"
      ],
      "metadata": {
        "id": "7xyeYnyGnwqX"
      }
    },
    {
      "cell_type": "code",
      "source": [
        "df = RetornarBaseReclamacoes(numero_maximo_resultados,\n",
        "                             palavrasChave,\n",
        "                             segmentoMercado,\n",
        "                             fornecedor,\n",
        "                             regiao,\n",
        "                             uf,\n",
        "                             cidade,\n",
        "                             area,\n",
        "                             assunto,\n",
        "                             problema,\n",
        "                             dataInicio,\n",
        "                             dataTermino,\n",
        "                             avaliacao,\n",
        "                             nota)"
      ],
      "metadata": {
        "id": "9VFn4xmX6aSH"
      },
      "execution_count": null,
      "outputs": []
    },
    {
      "cell_type": "markdown",
      "source": [
        "Exibir resultado"
      ],
      "metadata": {
        "id": "C-QKsRUvxTDC"
      }
    },
    {
      "cell_type": "code",
      "source": [
        "display(df)"
      ],
      "metadata": {
        "id": "zHv8qM9qxSAf"
      },
      "execution_count": null,
      "outputs": []
    },
    {
      "cell_type": "markdown",
      "source": [
        "Salvar resultado em arquivos"
      ],
      "metadata": {
        "id": "yurGYxBKxXWF"
      }
    },
    {
      "cell_type": "code",
      "source": [
        "df.to_csv(f\"ReclamacoesConsumidor-{len(df)}-{'_'.join(palavrasChave)}.csv\")\n",
        "df.to_excel(f\"ReclamacoesConsumidor-{len(df)}-{'_'.join(palavrasChave)}.xlsx\")"
      ],
      "metadata": {
        "id": "V2PzdEVPpd14"
      },
      "execution_count": 37,
      "outputs": []
    }
  ]
}